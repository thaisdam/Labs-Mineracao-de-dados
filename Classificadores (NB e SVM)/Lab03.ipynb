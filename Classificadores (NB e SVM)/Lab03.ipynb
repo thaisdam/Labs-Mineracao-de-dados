{
  "nbformat": 4,
  "nbformat_minor": 0,
  "metadata": {
    "colab": {
      "provenance": []
    },
    "kernelspec": {
      "name": "python3",
      "display_name": "Python 3"
    },
    "language_info": {
      "name": "python"
    }
  },
  "cells": [
    {
      "cell_type": "markdown",
      "source": [
        "Aula 3 - PRÁTICA - Thais Damasceno - 11721BCC007"
      ],
      "metadata": {
        "id": "T6HhzM7ydgP2"
      }
    },
    {
      "cell_type": "markdown",
      "source": [
        "1) Carregue o dataset Iris."
      ],
      "metadata": {
        "id": "9a-6MX9IqMp2"
      }
    },
    {
      "cell_type": "code",
      "source": [
        "from sklearn.datasets import load_iris\n",
        "from pandas import DataFrame\n",
        "import pandas as pd\n",
        "\n",
        "# Carregar o dataset\n",
        "iris = load_iris()\n",
        "\n",
        "# DataFrame para melhor visualização\n",
        "iris_df = pd.DataFrame(data=iris.data, columns=iris.feature_names)\n",
        "iris_df['target'] = iris.target\n",
        "\n",
        "print(iris_df.head())"
      ],
      "metadata": {
        "colab": {
          "base_uri": "https://localhost:8080/"
        },
        "id": "cGjuq1oNdqdm",
        "outputId": "6a77bf34-1f5d-4c60-f6c2-60160835f046"
      },
      "execution_count": 31,
      "outputs": [
        {
          "output_type": "stream",
          "name": "stdout",
          "text": [
            "   sepal length (cm)  sepal width (cm)  petal length (cm)  petal width (cm)  \\\n",
            "0                5.1               3.5                1.4               0.2   \n",
            "1                4.9               3.0                1.4               0.2   \n",
            "2                4.7               3.2                1.3               0.2   \n",
            "3                4.6               3.1                1.5               0.2   \n",
            "4                5.0               3.6                1.4               0.2   \n",
            "\n",
            "   target  \n",
            "0       0  \n",
            "1       0  \n",
            "2       0  \n",
            "3       0  \n",
            "4       0  \n"
          ]
        }
      ]
    },
    {
      "cell_type": "markdown",
      "source": [
        "2) Aplique o classificador SVM."
      ],
      "metadata": {
        "id": "U0nIJob3XzTo"
      }
    },
    {
      "cell_type": "code",
      "source": [
        "from sklearn.model_selection import train_test_split\n",
        "from sklearn.svm import SVC\n",
        "from sklearn.metrics import accuracy_score\n",
        "\n",
        "# Separa as features (X) e o target (y)\n",
        "X = iris_df.drop('target', axis=1)\n",
        "y = iris_df['target']\n",
        "\n",
        "# Divide os dados em treino e teste (70% treino 30% teste)\n",
        "X_train, X_test, y_train, y_test = train_test_split(X, y, test_size=0.3, random_state=42)\n",
        "\n",
        "# Inicializa e treina o classificador SVM com kernel linear\n",
        "svm_linear = SVC(kernel='linear')\n",
        "svm_linear.fit(X_train, y_train)\n",
        "\n",
        "# Faz previsões no conjunto de teste\n",
        "y_pred_linear = svm_linear.predict(X_test)\n",
        "\n",
        "# Calcula a acurácia\n",
        "accuracy_linear = accuracy_score(y_test, y_pred_linear)\n",
        "print(f\"Acurácia do SVM com kernel linear: {accuracy_linear}\")"
      ],
      "metadata": {
        "colab": {
          "base_uri": "https://localhost:8080/"
        },
        "id": "xmI2Y12cdxS0",
        "outputId": "6bd14862-f856-493a-dc3d-6cd48a22d0cd"
      },
      "execution_count": 32,
      "outputs": [
        {
          "output_type": "stream",
          "name": "stdout",
          "text": [
            "Acurácia do SVM com kernel linear: 1.0\n"
          ]
        }
      ]
    },
    {
      "cell_type": "markdown",
      "source": [
        "3) Faça uma tabela com os resultados de acurácia do SVM para diferentes kernels. Para os kernels polinomiais e RBF, varie os parâmetros “degree” e “gamma”, respectivamente.\n",
        "- Consulte a documentação: https://scikit-learn.org/stable/modules/generated/sklearn.svm.SVC.html\n"
      ],
      "metadata": {
        "id": "l3jI8sm3YFl4"
      }
    },
    {
      "cell_type": "code",
      "source": [
        "# Define os kernels e parâmetros a serem testados\n",
        "kernels = ['linear', 'poly', 'rbf', 'sigmoid']\n",
        "degrees = [2, 3, 4]  # Graus do polinômio (kernel poly)\n",
        "gammas = [0.1, 1, 10] # Valores do parâmetro gamma (kernel rbf)\n",
        "\n",
        "results = []\n",
        "\n",
        "# Treinar e testar os modelos\n",
        "for kernel in kernels:\n",
        "     # Se o kernel for poly (polinomial), testa diferentes graus do polinômio\n",
        "    if kernel == 'poly':\n",
        "        for degree in degrees:\n",
        "            svm = SVC(kernel=kernel, degree=degree)  # Cria e treina o modelo SVM com o kernel polinomial e o grau específico\n",
        "            svm.fit(X_train, y_train) # treina o modelo\n",
        "            y_pred = svm.predict(X_test) # faz a previsão nos dados de teste\n",
        "            accuracy = accuracy_score(y_test, y_pred)\n",
        "            results.append({'kernel': kernel, 'degree': degree, 'gamma': 'N/A', 'accuracy': accuracy})\n",
        "    # Se o kernel for rbf (Radial Basis Function), testa diferentes valores de gamma\n",
        "    elif kernel == 'rbf':\n",
        "        for gamma in gammas:\n",
        "            svm = SVC(kernel=kernel, gamma=gamma)\n",
        "            svm.fit(X_train, y_train)\n",
        "            y_pred = svm.predict(X_test)\n",
        "            accuracy = accuracy_score(y_test, y_pred)\n",
        "            results.append({'kernel': kernel, 'degree': 'N/A', 'gamma': gamma, 'accuracy': accuracy})\n",
        "    # Para os kernels linear e sigmoid, não há necessidade de testar degree ou gamma\n",
        "    else:\n",
        "        svm = SVC(kernel=kernel)\n",
        "        svm.fit(X_train, y_train)\n",
        "        y_pred = svm.predict(X_test)\n",
        "        accuracy = accuracy_score(y_test, y_pred)\n",
        "        results.append({'kernel': kernel, 'degree': 'N/A', 'gamma': 'N/A', 'accuracy': accuracy})\n",
        "\n",
        "# Resultados\n",
        "results_df = pd.DataFrame(results)\n",
        "print(results_df.to_string(index=False))"
      ],
      "metadata": {
        "colab": {
          "base_uri": "https://localhost:8080/"
        },
        "id": "MTMDG0BAeEZW",
        "outputId": "6904bbdb-558b-44db-eeea-23105b2cb8b8"
      },
      "execution_count": 33,
      "outputs": [
        {
          "output_type": "stream",
          "name": "stdout",
          "text": [
            " kernel degree gamma  accuracy\n",
            " linear    N/A   N/A  1.000000\n",
            "   poly      2   N/A  1.000000\n",
            "   poly      3   N/A  0.977778\n",
            "   poly      4   N/A  1.000000\n",
            "    rbf    N/A   0.1  1.000000\n",
            "    rbf    N/A     1  1.000000\n",
            "    rbf    N/A    10  0.977778\n",
            "sigmoid    N/A   N/A  0.222222\n"
          ]
        }
      ]
    },
    {
      "cell_type": "markdown",
      "source": [
        "4) Carregue o dataset Brasileirão Serie A\n",
        "https://www.kaggle.com/datasets/adaoduque/campeonato-brasileiro-de-futebol?resource=download\n"
      ],
      "metadata": {
        "id": "JLgZ9T4CYOaP"
      }
    },
    {
      "cell_type": "code",
      "source": [
        "import pandas as pd\n",
        "from google.colab import drive\n",
        "\n",
        "# Conectar com Google Drive\n",
        "drive.mount('/content/drive', force_remount=True)\n",
        "\n",
        "\n",
        "# Carregar os dados\n",
        "df = pd.read_csv('/content/drive/MyDrive/campeonato-brasileiro-full.csv')\n",
        "\n",
        "print(df.head())"
      ],
      "metadata": {
        "colab": {
          "base_uri": "https://localhost:8080/"
        },
        "id": "EjHaeBx1cy3X",
        "outputId": "fde1b34d-f360-47f6-a9df-f20515ba550e"
      },
      "execution_count": 34,
      "outputs": [
        {
          "output_type": "stream",
          "name": "stdout",
          "text": [
            "Mounted at /content/drive\n",
            "   ID  rodata        data   hora       mandante    visitante  \\\n",
            "0   1       1  29/03/2003  16:00        Guarani        Vasco   \n",
            "1   2       1  29/03/2003  16:00   Athletico-PR       Gremio   \n",
            "2   3       1  30/03/2003  16:00       Flamengo     Coritiba   \n",
            "3   4       1  30/03/2003  16:00          Goias     Paysandu   \n",
            "4   5       1  30/03/2003  16:00  Internacional  Ponte Preta   \n",
            "\n",
            "  formacao_mandante formacao_visitante tecnico_mandante tecnico_visitante  \\\n",
            "0               NaN                NaN              NaN               NaN   \n",
            "1               NaN                NaN              NaN               NaN   \n",
            "2               NaN                NaN              NaN               NaN   \n",
            "3               NaN                NaN              NaN               NaN   \n",
            "4               NaN                NaN              NaN               NaN   \n",
            "\n",
            "       vencedor              arena  mandante_Placar  visitante_Placar  \\\n",
            "0       Guarani     Brinco de Ouro                4                 2   \n",
            "1  Athletico-PR   Arena da Baixada                2                 0   \n",
            "2             -           Maracanã                1                 1   \n",
            "3             -      Serra Dourada                2                 2   \n",
            "4             -          Beira Rio                1                 1   \n",
            "\n",
            "  mandante_Estado visitante_Estado  \n",
            "0              SP               RJ  \n",
            "1              PR               RS  \n",
            "2              RJ               PR  \n",
            "3              GO               PA  \n",
            "4              RS               SP  \n"
          ]
        }
      ]
    },
    {
      "cell_type": "markdown",
      "source": [
        "5) Aplique o classificador Naive Bayes. Escolha algumas colunas (pelo menos Mandante e Visitante são essenciais) como entradas para predizer o resultado da partida.\n"
      ],
      "metadata": {
        "id": "YzTw-Jh0YObf"
      }
    },
    {
      "cell_type": "code",
      "source": [
        "from sklearn.model_selection import train_test_split\n",
        "from sklearn.preprocessing import LabelEncoder\n",
        "from sklearn.naive_bayes import GaussianNB\n",
        "from sklearn.metrics import accuracy_score\n",
        "\n",
        "# Remover espaços extras dos nomes das colunas\n",
        "df.columns = df.columns.str.strip()\n",
        "\n",
        "# Verificar os nomes das colunas\n",
        "print(\"Colunas disponíveis:\", df.columns)\n",
        "\n",
        "# Selecionar colunas relevantes (mandante, visitante e vencedor)\n",
        "cols = [\"mandante\", \"visitante\", \"vencedor\"]\n",
        "\n",
        "print(\"\\n\")\n",
        "\n",
        "df = df[cols].dropna()\n",
        "\n",
        "# Verificar distribuição das classes\n",
        "print(\"Distribuição das classes:\")\n",
        "print(df[\"vencedor\"].value_counts().to_string())\n",
        "\n",
        "# Transformar os times em valores numéricos\n",
        "encoder = LabelEncoder()\n",
        "df[\"mandante\"] = encoder.fit_transform(df[\"mandante\"])\n",
        "df[\"visitante\"] = encoder.fit_transform(df[\"visitante\"])\n",
        "df[\"vencedor\"] = encoder.fit_transform(df[\"vencedor\"])\n",
        "\n",
        "# Definir variáveis de entrada e saída\n",
        "X = df[[\"mandante\", \"visitante\"]]\n",
        "y = df[\"vencedor\"]\n",
        "\n",
        "# Dividir em treino e teste (80% treino, 20% teste)\n",
        "X_train, X_test, y_train, y_test = train_test_split(X, y, test_size=0.2, random_state=42)\n",
        "\n",
        "# Aplicar o classificador Naive Bayes\n",
        "nb = GaussianNB()\n",
        "\n",
        "# Mostrar o número de vitórias de cada time\n",
        "_ = nb.fit(X_train, y_train)"
      ],
      "metadata": {
        "colab": {
          "base_uri": "https://localhost:8080/"
        },
        "id": "re5AqmF_b2QH",
        "outputId": "c9898940-8418-43be-abf4-91ebcd705e72"
      },
      "execution_count": 35,
      "outputs": [
        {
          "output_type": "stream",
          "name": "stdout",
          "text": [
            "Colunas disponíveis: Index(['ID', 'rodata', 'data', 'hora', 'mandante', 'visitante',\n",
            "       'formacao_mandante', 'formacao_visitante', 'tecnico_mandante',\n",
            "       'tecnico_visitante', 'vencedor', 'arena', 'mandante_Placar',\n",
            "       'visitante_Placar', 'mandante_Estado', 'visitante_Estado'],\n",
            "      dtype='object')\n",
            "\n",
            "\n",
            "Distribuição das classes:\n",
            "vencedor\n",
            "-                  2221\n",
            "Sao Paulo           365\n",
            "Flamengo            354\n",
            "Santos              340\n",
            "Internacional       339\n",
            "Palmeiras           329\n",
            "Atletico-MG         327\n",
            "Corinthians         326\n",
            "Fluminense          322\n",
            "Gremio              316\n",
            "Athletico-PR        309\n",
            "Cruzeiro            304\n",
            "Botafogo-RJ         247\n",
            "Goias               209\n",
            "Vasco               208\n",
            "Coritiba            189\n",
            "Figueirense         142\n",
            "Sport               131\n",
            "Bahia               127\n",
            "Vitoria             123\n",
            "Ponte Preta         114\n",
            "Fortaleza           108\n",
            "Juventude            85\n",
            "Parana               83\n",
            "Atletico-GO          72\n",
            "Ceara                72\n",
            "Chapecoense          70\n",
            "Avai                 66\n",
            "Sao Caetano          65\n",
            "America-MG           58\n",
            "Bragantino           55\n",
            "Nautico              54\n",
            "Criciuma             50\n",
            "Paysandu             41\n",
            "Guarani              36\n",
            "Cuiaba               34\n",
            "Portuguesa           31\n",
            "Santa Cruz           15\n",
            "Barueri              12\n",
            "Santo Andre          11\n",
            "Brasiliense          10\n",
            "Ipatinga              9\n",
            "CSA                   8\n",
            "Gremio Prudente       7\n",
            "Joinville             7\n",
            "America-RN            4\n"
          ]
        }
      ]
    },
    {
      "cell_type": "markdown",
      "source": [
        "6) Use os métodos predict(X) e predict_proba(X) para testar os resultados\n",
        "- Consulte a documentação:\t\thttps://scikit-learn.org/stable/modules/generated/sklearn.naive_bayes.GaussianNB.html"
      ],
      "metadata": {
        "id": "XsBm6zI7dN5w"
      }
    },
    {
      "cell_type": "code",
      "source": [
        "from sklearn.metrics import classification_report\n",
        "\n",
        "# Previsões usando predict e predict_proba\n",
        "y_pred = nb.predict(X_test)\n",
        "y_prob = nb.predict_proba(X_test)\n",
        "\n",
        "# Avaliação do modelo\n",
        "print(\"Acurácia:\", accuracy_score(y_test, y_pred))\n",
        "print(\"\\nRelatório de Classificação:\")\n",
        "print(classification_report(y_test, y_pred, zero_division=1))\n"
      ],
      "metadata": {
        "colab": {
          "base_uri": "https://localhost:8080/"
        },
        "id": "_RrOw8GTc6ug",
        "outputId": "447f7b0a-af73-412c-ac6a-71378f0d1a8e"
      },
      "execution_count": 36,
      "outputs": [
        {
          "output_type": "stream",
          "name": "stdout",
          "text": [
            "Acurácia: 0.27483640690065436\n",
            "\n",
            "Relatório de Classificação:\n",
            "              precision    recall  f1-score   support\n",
            "\n",
            "           0       0.27      1.00      0.43       456\n",
            "           1       1.00      0.00      0.00        10\n",
            "           2       1.00      0.00      0.00         1\n",
            "           3       1.00      0.00      0.00        68\n",
            "           4       1.00      0.00      0.00         7\n",
            "           5       1.00      0.00      0.00        70\n",
            "           6       1.00      0.00      0.00        14\n",
            "           7       1.00      0.00      0.00        24\n",
            "           8       1.00      0.00      0.00         1\n",
            "           9       1.00      0.00      0.00        42\n",
            "          10       1.00      0.00      0.00         9\n",
            "          11       1.00      0.00      0.00         3\n",
            "          12       1.00      0.00      0.00         2\n",
            "          13       1.00      0.00      0.00        14\n",
            "          14       1.00      0.00      0.00        16\n",
            "          15       1.00      0.00      0.00        55\n",
            "          16       1.00      0.00      0.00        40\n",
            "          17       1.00      0.00      0.00         9\n",
            "          18       1.00      0.00      0.00        75\n",
            "          19       1.00      0.00      0.00        12\n",
            "          20       1.00      0.00      0.00        25\n",
            "          21       1.00      0.00      0.00        60\n",
            "          22       1.00      0.00      0.00        59\n",
            "          23       1.00      0.00      0.00        24\n",
            "          24       1.00      0.00      0.00        43\n",
            "          25       1.00      0.00      0.00        64\n",
            "          26       1.00      0.00      0.00         1\n",
            "          27       1.00      0.00      0.00         8\n",
            "          28       1.00      0.00      0.00        64\n",
            "          29       1.00      1.00      1.00         3\n",
            "          31       1.00      0.00      0.00        13\n",
            "          32       1.00      0.00      0.00        13\n",
            "          33       1.00      0.00      0.00        60\n",
            "          34       1.00      0.00      0.00        22\n",
            "          35       1.00      0.00      0.00         4\n",
            "          36       1.00      0.00      0.00        21\n",
            "          37       1.00      0.00      0.00         8\n",
            "          38       1.00      0.00      0.00         4\n",
            "          39       1.00      0.00      0.00         2\n",
            "          40       1.00      0.00      0.00        69\n",
            "          41       1.00      0.00      0.00        16\n",
            "          42       0.33      0.06      0.10        66\n",
            "          43       1.00      0.00      0.00        25\n",
            "          44       1.00      0.00      0.00        49\n",
            "          45       1.00      0.00      0.00        30\n",
            "\n",
            "    accuracy                           0.27      1681\n",
            "   macro avg       0.97      0.05      0.03      1681\n",
            "weighted avg       0.78      0.27      0.12      1681\n",
            "\n"
          ]
        }
      ]
    },
    {
      "cell_type": "markdown",
      "source": [
        "7) Repita o passo 5, mas agora tente apenas prever entre vitória ou não-vitória (isto é, considerando empate ou derrota como a mesma classe)\n"
      ],
      "metadata": {
        "id": "6kwg_wItdblv"
      }
    },
    {
      "cell_type": "code",
      "source": [
        "import numpy as np\n",
        "\n",
        "# Prevê apenas vitória ou não-vitória\n",
        "# 1 representa que o time mandante venceu a partida\n",
        "# 0 representa derrota ou empate\n",
        "df[\"Vitoria\"] = np.where(df[\"vencedor\"] == df[\"mandante\"], 1, 0)\n",
        "y_binary = df[\"Vitoria\"]\n",
        "\n",
        "# Verifica distribuição das classes no modelo binário\n",
        "print(\"Distribuição das classes (Vitória vs. Não-Vitória):\\n\")\n",
        "print(df[\"Vitoria\"].value_counts().to_string())\n",
        "\n",
        "# Divide novamente em treino e teste\n",
        "X_train, X_test, y_train, y_test = train_test_split(X, y_binary, test_size=0.2, random_state=42)\n",
        "\n",
        "# Treina novamente o Naive Bayes\n",
        "nb.fit(X_train, y_train)\n",
        "y_pred_binary = nb.predict(X_test)\n",
        "\n",
        "# Avaliação do modelo binário\n",
        "print(\"\\nAcurácia (Vitória vs. Não-Vitória):\", accuracy_score(y_test, y_pred_binary))\n",
        "print(\"\\nRelatório de Classificação (Vitória vs. Não-Vitória):\\n\")\n",
        "print(classification_report(y_test, y_pred_binary, zero_division=1))"
      ],
      "metadata": {
        "colab": {
          "base_uri": "https://localhost:8080/"
        },
        "id": "W6AVoQ4Bc9Fl",
        "outputId": "e4b0bfda-54be-4951-f3c2-b6af2d3c5742"
      },
      "execution_count": 37,
      "outputs": [
        {
          "output_type": "stream",
          "name": "stdout",
          "text": [
            "Distribuição das classes (Vitória vs. Não-Vitória):\n",
            "\n",
            "Vitoria\n",
            "0    8323\n",
            "1      82\n",
            "\n",
            "Acurácia (Vitória vs. Não-Vitória): 0.992266508030934\n",
            "\n",
            "Relatório de Classificação (Vitória vs. Não-Vitória):\n",
            "\n",
            "              precision    recall  f1-score   support\n",
            "\n",
            "           0       0.99      1.00      1.00      1668\n",
            "           1       1.00      0.00      0.00        13\n",
            "\n",
            "    accuracy                           0.99      1681\n",
            "   macro avg       1.00      0.50      0.50      1681\n",
            "weighted avg       0.99      0.99      0.99      1681\n",
            "\n"
          ]
        }
      ]
    }
  ]
}